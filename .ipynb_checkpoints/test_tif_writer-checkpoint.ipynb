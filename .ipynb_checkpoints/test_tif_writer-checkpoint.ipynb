{
 "cells": [
  {
   "cell_type": "code",
   "execution_count": 1,
   "metadata": {},
   "outputs": [],
   "source": [
    "# import gdal\n",
    "from osgeo import gdal\n",
    "from osgeo import osr\n",
    "import rasterio as rio\n",
    "import numpy as np\n",
    "import os, sys"
   ]
  },
  {
   "cell_type": "code",
   "execution_count": 2,
   "metadata": {},
   "outputs": [],
   "source": [
    "def createArray(arr_shape):\n",
    "    ''' createArray(arr_shape) creates a numpy ndarray with the shape defined by the tuple arr_shape\n",
    "        arr_shape should be:\n",
    "        (rows, cols, [channels])\n",
    "        the values for each channel will be the number of that channel.\n",
    "    '''\n",
    "    \n",
    "    dummy_arr = np.ones(arr_shape)\n",
    "    \n",
    "    if len(arr_shape) == 2:\n",
    "        \n",
    "        # there is only one channel, so that one channel is all 1's\n",
    "        dummy_arr = np.expand_dims(dummy_arr,-1)\n",
    "    \n",
    "    else:\n",
    "        # multiply each channel by the channel number (1-based)\n",
    "        for i in range(arr_shape[-1]):\n",
    "            dummy_arr[:,:,i] *= i+1\n",
    "    \n",
    "    return dummy_arr\n",
    "\n",
    "\n",
    "\n",
    "def dummy_tif_writer(arr, dst_filename):\n",
    "    '''\n",
    "        dummy_tif_writer(arr_dst_filename) writes a tif file specified by dst_filename using the array specified\n",
    "        by arr. The shape of arr should be 3 dimensional such that the last dimension is the number of bands.\n",
    "        this type of array can be created with the createArray(arr_shape) function.\n",
    "    '''\n",
    "\n",
    "    # make sure the array is 3 dimensional, assuming last dimension is number of bands\n",
    "    assert len(arr.shape) == 3\n",
    "    \n",
    "    # define a dummy geotransform\n",
    "    geotrans = (0,1,0,0,0,-1)\n",
    "\n",
    "    # get the dimensions of the array\n",
    "    n_rows, n_cols, n_channels = arr.shape\n",
    "    n_rows, n_cols, n_channels\n",
    "\n",
    "    x_pixels = n_cols  # number of pixels in x\n",
    "    y_pixels = n_rows  # number of pixels in y\n",
    "\n",
    "    # set the driver\n",
    "    driver = gdal.GetDriverByName('GTiff')\n",
    "\n",
    "    # create the file\n",
    "    dataset = driver.Create(dst_filename, x_pixels, y_pixels, int(n_channels), gdal.GDT_Byte)\n",
    "\n",
    "    # write the bands\n",
    "    for i in range(n_channels):\n",
    "        dataset.GetRasterBand(i+1).WriteArray(dummy[:,:,i])\n",
    "\n",
    "    # define the Unknown projection\n",
    "    srs = osr.SpatialReference()            \n",
    "    srs.ImportFromEPSG(0)\n",
    "    proj = srs.ExportToWkt() \n",
    "\n",
    "    # set the geotransform\n",
    "    dataset.SetGeoTransform(geotrans)\n",
    "\n",
    "    # set the projection\n",
    "    dataset.SetProjection(proj)\n",
    "\n",
    "    # flush the cache\n",
    "    dataset.FlushCache()\n",
    "\n",
    "    # remove the dataset from memory\n",
    "    dataset=None\n",
    "    \n",
    "    return 0        "
   ]
  },
  {
   "cell_type": "code",
   "execution_count": 3,
   "metadata": {},
   "outputs": [
    {
     "data": {
      "text/plain": [
       "((5, 5, 1), (4, 6, 3), (8, 9, 1), array([[[1., 2., 3., 4.],\n",
       "         [1., 2., 3., 4.],\n",
       "         [1., 2., 3., 4.]],\n",
       " \n",
       "        [[1., 2., 3., 4.],\n",
       "         [1., 2., 3., 4.],\n",
       "         [1., 2., 3., 4.]]]))"
      ]
     },
     "execution_count": 3,
     "metadata": {},
     "output_type": "execute_result"
    }
   ],
   "source": [
    "createArray([5,5,1]).shape, createArray([4,6,3]).shape, createArray([8,9]).shape, createArray([2,3,4])"
   ]
  },
  {
   "cell_type": "code",
   "execution_count": 5,
   "metadata": {},
   "outputs": [
    {
     "data": {
      "text/plain": [
       "0"
      ]
     },
     "execution_count": 5,
     "metadata": {},
     "output_type": "execute_result"
    }
   ],
   "source": [
    "dummy = createArray([6,6,3])\n",
    "dst_filename = 'test_func.tif'\n",
    "dummy_tif_writer(dummy, dst_filename)"
   ]
  },
  {
   "cell_type": "code",
   "execution_count": 6,
   "metadata": {},
   "outputs": [
    {
     "name": "stdout",
     "output_type": "stream",
     "text": [
      "(3, 6, 6)\n"
     ]
    },
    {
     "name": "stderr",
     "output_type": "stream",
     "text": [
      "C:\\anaconda3\\envs\\earth-analytics-python\\lib\\site-packages\\rasterio\\__init__.py:193: UserWarning: Dataset has no geotransform set.  Default transform will be applied (Affine.identity())\n",
      "  s.start()\n"
     ]
    }
   ],
   "source": [
    "import rasterio as rio\n",
    "\n",
    "with rio.open(dst_filename) as src:\n",
    "    arr = src.read()\n",
    "    \n",
    "print(arr.shape)\n"
   ]
  },
  {
   "cell_type": "code",
   "execution_count": 7,
   "metadata": {},
   "outputs": [
    {
     "data": {
      "text/plain": [
       "array([[1, 1, 1, 1, 1, 1],\n",
       "       [1, 1, 1, 1, 1, 1],\n",
       "       [1, 1, 1, 1, 1, 1],\n",
       "       [1, 1, 1, 1, 1, 1],\n",
       "       [1, 1, 1, 1, 1, 1],\n",
       "       [1, 1, 1, 1, 1, 1]], dtype=uint8)"
      ]
     },
     "execution_count": 7,
     "metadata": {},
     "output_type": "execute_result"
    }
   ],
   "source": [
    "arr[0]"
   ]
  },
  {
   "cell_type": "code",
   "execution_count": 8,
   "metadata": {},
   "outputs": [
    {
     "data": {
      "text/plain": [
       "array([[2, 2, 2, 2, 2, 2],\n",
       "       [2, 2, 2, 2, 2, 2],\n",
       "       [2, 2, 2, 2, 2, 2],\n",
       "       [2, 2, 2, 2, 2, 2],\n",
       "       [2, 2, 2, 2, 2, 2],\n",
       "       [2, 2, 2, 2, 2, 2]], dtype=uint8)"
      ]
     },
     "execution_count": 8,
     "metadata": {},
     "output_type": "execute_result"
    }
   ],
   "source": [
    "arr[1]"
   ]
  },
  {
   "cell_type": "code",
   "execution_count": 9,
   "metadata": {},
   "outputs": [
    {
     "data": {
      "text/plain": [
       "array([[3, 3, 3, 3, 3, 3],\n",
       "       [3, 3, 3, 3, 3, 3],\n",
       "       [3, 3, 3, 3, 3, 3],\n",
       "       [3, 3, 3, 3, 3, 3],\n",
       "       [3, 3, 3, 3, 3, 3],\n",
       "       [3, 3, 3, 3, 3, 3]], dtype=uint8)"
      ]
     },
     "execution_count": 9,
     "metadata": {},
     "output_type": "execute_result"
    }
   ],
   "source": [
    "arr[2]"
   ]
  },
  {
   "cell_type": "code",
   "execution_count": null,
   "metadata": {},
   "outputs": [],
   "source": []
  }
 ],
 "metadata": {
  "kernelspec": {
   "display_name": "Python [conda env:earth-analytics-python]",
   "language": "python",
   "name": "conda-env-earth-analytics-python-py"
  },
  "language_info": {
   "codemirror_mode": {
    "name": "ipython",
    "version": 3
   },
   "file_extension": ".py",
   "mimetype": "text/x-python",
   "name": "python",
   "nbconvert_exporter": "python",
   "pygments_lexer": "ipython3",
   "version": "3.6.5"
  }
 },
 "nbformat": 4,
 "nbformat_minor": 2
}
