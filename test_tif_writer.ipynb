{
 "cells": [
  {
   "cell_type": "code",
   "execution_count": 1,
   "metadata": {},
   "outputs": [],
   "source": [
    "import gdal\n",
    "import rasterio as rio\n",
    "import numpy as np\n",
    "import os, sys"
   ]
  },
  {
   "cell_type": "code",
   "execution_count": 2,
   "metadata": {},
   "outputs": [],
   "source": [
    "def createArray(arr_shape):\n",
    "    ''' createArray(arr_shape) creates a numpy ndarray with the shape defined by the tuple arr_shape\n",
    "        arr_shape should be:\n",
    "        (rows, cols, [channels])\n",
    "        the values for each channel will be the number of that channel.\n",
    "    '''\n",
    "    \n",
    "    dummy_arr = np.ones(arr_shape)\n",
    "    \n",
    "    if len(arr_shape) == 2:\n",
    "        \n",
    "        # there is only one channel, so that one channel is all 1's\n",
    "        dummy_arr = np.expand_dims(dummy_arr,-1)\n",
    "    \n",
    "    else:\n",
    "        # multiply each channel by the channel number (1-based)\n",
    "        for i in range(arr_shape[-1]):\n",
    "            dummy_arr[:,:,i] *= i+1\n",
    "    \n",
    "    return dummy_arr\n",
    "\n",
    "        "
   ]
  },
  {
   "cell_type": "code",
   "execution_count": 3,
   "metadata": {},
   "outputs": [
    {
     "data": {
      "text/plain": [
       "((5, 5, 1), (4, 6, 3), (8, 9, 1), array([[[1., 2., 3., 4.],\n",
       "         [1., 2., 3., 4.],\n",
       "         [1., 2., 3., 4.]],\n",
       " \n",
       "        [[1., 2., 3., 4.],\n",
       "         [1., 2., 3., 4.],\n",
       "         [1., 2., 3., 4.]]]))"
      ]
     },
     "execution_count": 3,
     "metadata": {},
     "output_type": "execute_result"
    }
   ],
   "source": [
    "createArray([5,5,1]).shape, createArray([4,6,3]).shape, createArray([8,9]).shape, createArray([2,3,4])"
   ]
  },
  {
   "cell_type": "code",
   "execution_count": 4,
   "metadata": {},
   "outputs": [
    {
     "name": "stdout",
     "output_type": "stream",
     "text": [
      "[[0. 1. 0.]\n",
      " [0. 0. 1.]\n",
      " [0. 0. 1.]]\n"
     ]
    }
   ],
   "source": [
    "# initialize a \"unit\" geotransform array\n",
    "a_geo_transform = np.zeros((3,3))\n",
    "\n",
    "# set the last element to 1\n",
    "a_geo_transform[2,2] = 1\n",
    "\n",
    "# assign affine parameters\n",
    "a_geo_transform[0,0] = 0 #/* top left x */\n",
    "a_geo_transform[0,1] = 1 #/* w-e pixel resolution */\n",
    "a_geo_transform[0,2] = 0 #/* rotation, 0 if image is \"north up\" */\n",
    "a_geo_transform[1,0] = 0 #/* top left y */\n",
    "a_geo_transform[1,1] = 0 #/* rotation, 0 if image is \"north up\" */\n",
    "a_geo_transform[1,2] = 1 #/* n-s pixel resolution */\n",
    "\n",
    "# check it\n",
    "print(a_geo_transform)\n",
    "\n"
   ]
  },
  {
   "cell_type": "code",
   "execution_count": 5,
   "metadata": {},
   "outputs": [],
   "source": [
    "# define a dummy projection\n",
    "a_projection=None"
   ]
  },
  {
   "cell_type": "code",
   "execution_count": 6,
   "metadata": {},
   "outputs": [
    {
     "data": {
      "text/plain": [
       "(6, 6, 3)"
      ]
     },
     "execution_count": 6,
     "metadata": {},
     "output_type": "execute_result"
    }
   ],
   "source": [
    "dummy = createArray([6,6,3])\n",
    "n_rows, n_cols, n_channels = dummy.shape\n",
    "n_rows, n_cols, n_channels"
   ]
  },
  {
   "cell_type": "code",
   "execution_count": 7,
   "metadata": {},
   "outputs": [
    {
     "name": "stdout",
     "output_type": "stream",
     "text": [
      "getting driver name\n"
     ]
    }
   ],
   "source": [
    "dst_filename = 'xxx.tiff'\n",
    "x_pixels = n_rows  # number of pixels in x\n",
    "y_pixels = n_cols  # number of pixels in y\n",
    "\n",
    "print('getting driver name')\n",
    "driver = gdal.GetDriverByName('GTiff')"
   ]
  },
  {
   "cell_type": "code",
   "execution_count": 9,
   "metadata": {},
   "outputs": [
    {
     "name": "stdout",
     "output_type": "stream",
     "text": [
      "Help on method Create in module osgeo.gdal:\n",
      "\n",
      "Create(*args, **kwargs) method of osgeo.gdal.Driver instance\n",
      "    Create(Driver self, char const * utf8_path, int xsize, int ysize, int bands=1, GDALDataType eType, char ** options=None) -> Dataset\n",
      "\n"
     ]
    }
   ],
   "source": [
    "help(driver.Create)"
   ]
  },
  {
   "cell_type": "code",
   "execution_count": null,
   "metadata": {},
   "outputs": [],
   "source": []
  },
  {
   "cell_type": "code",
   "execution_count": null,
   "metadata": {},
   "outputs": [],
   "source": []
  },
  {
   "cell_type": "code",
   "execution_count": null,
   "metadata": {},
   "outputs": [
    {
     "name": "stdout",
     "output_type": "stream",
     "text": [
      "creating dataset\n"
     ]
    }
   ],
   "source": [
    "print('creating dataset')\n",
    "dataset = driver.Create(dst_filename, x_pixels, y_pixels, n_channels,gdal.GDT_Float32)"
   ]
  },
  {
   "cell_type": "code",
   "execution_count": null,
   "metadata": {},
   "outputs": [
    {
     "name": "stdout",
     "output_type": "stream",
     "text": [
      "getting driver name\n",
      "creating dataset\n"
     ]
    }
   ],
   "source": [
    "print('writing')\n",
    "for i in range(n_channels):\n",
    "    dataset.GetRasterBand(i).WriteArray(dummy[:,:,i])\n",
    "\n",
    "print('setting data')\n",
    "# follow code is adding GeoTranform and Projection\n",
    "geotrans=a_geo_transform  #get GeoTranform from existed 'data0'\n",
    "proj=a_projection         #you can get from a exsited tif or import \n",
    "dataset.SetGeoTransform(geotrans)\n",
    "dataset.SetProjection(proj)\n",
    "dataset.FlushCache()\n",
    "dataset=None"
   ]
  },
  {
   "cell_type": "code",
   "execution_count": null,
   "metadata": {},
   "outputs": [],
   "source": []
  }
 ],
 "metadata": {
  "kernelspec": {
   "display_name": "Python [conda env:earth-analytics-python-2]",
   "language": "python",
   "name": "conda-env-earth-analytics-python-2-py"
  },
  "language_info": {
   "codemirror_mode": {
    "name": "ipython",
    "version": 3
   },
   "file_extension": ".py",
   "mimetype": "text/x-python",
   "name": "python",
   "nbconvert_exporter": "python",
   "pygments_lexer": "ipython3",
   "version": "3.6.4"
  }
 },
 "nbformat": 4,
 "nbformat_minor": 2
}
